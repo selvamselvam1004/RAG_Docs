{
 "cells": [
  {
   "cell_type": "code",
   "execution_count": 8,
   "metadata": {},
   "outputs": [
    {
     "name": "stdout",
     "output_type": "stream",
     "text": [
      "File format Valid .pdf\n"
     ]
    }
   ],
   "source": [
    "from base_line import PDFApp\n",
    "\n",
    "app=PDFApp(\"./docs/book.pdf\")\n"
   ]
  },
  {
   "cell_type": "code",
   "execution_count": 9,
   "metadata": {},
   "outputs": [],
   "source": [
    "text1=app.extractText(app.filePath,app.fileFormatValStatus)"
   ]
  },
  {
   "cell_type": "code",
   "execution_count": 10,
   "metadata": {},
   "outputs": [
    {
     "data": {
      "text/plain": [
       "array([[ 0.4337337 , -0.3279822 , -0.24689335, ..., -0.07694308,\n",
       "        -0.05961957, -0.49601752],\n",
       "       [ 0.07251614,  0.25011426,  0.17020077, ..., -0.07781079,\n",
       "         0.0017915 ,  0.05500996],\n",
       "       [ 0.1368072 ,  0.22491549,  0.20628276, ...,  0.0395758 ,\n",
       "         0.00569847, -0.1883566 ],\n",
       "       ...,\n",
       "       [ 0.00566717,  0.30762258, -0.23277956, ...,  0.01426011,\n",
       "        -0.14835975,  0.15923592],\n",
       "       [ 0.10637543,  0.29646796,  0.02705408, ..., -0.15554851,\n",
       "         0.01233165,  0.12560865],\n",
       "       [ 0.04724745,  0.42098552,  0.08611117, ...,  0.12495977,\n",
       "        -0.22015202, -0.05629642]], dtype=float32)"
      ]
     },
     "execution_count": 10,
     "metadata": {},
     "output_type": "execute_result"
    }
   ],
   "source": [
    "app.generateEmbeddings(app.text,app.model)"
   ]
  },
  {
   "cell_type": "code",
   "execution_count": 11,
   "metadata": {},
   "outputs": [],
   "source": [
    "index=app.create_faiss_index(app.embed)"
   ]
  },
  {
   "cell_type": "code",
   "execution_count": 13,
   "metadata": {},
   "outputs": [],
   "source": [
    "from base_line import retrieve_text\n",
    "\n",
    "query='What is THE CRY IN THE CORRIDOR?'\n",
    "result=retrieve_text(query,index,text1,app.model)"
   ]
  },
  {
   "cell_type": "code",
   "execution_count": 14,
   "metadata": {},
   "outputs": [
    {
     "data": {
      "text/plain": [
       "'There was a candle by her bedside and she took it up and went softly out of\\nthe room. The corridor looked very long and dark, but she was too excited to\\nmind that. She thought she remembered the corners she must turn to find the\\nshort corridor with the door covered with tapestry—the one Mrs. Medlock had\\ncome through the day she lost herself. The sound had come up that passage.\\nSo she went on with her dim light, almost feeling her way, her heart beating so\\nloud that she fancied she could hear it. The far-off faint crying went on and led\\nher. Sometimes it stopped for a moment or so and then began again. Was this\\nthe right corner to turn? She stopped and thought. Yes it was. Down this\\npassage and then to the left, and then up two broad steps, and then to the right\\nagain. Yes, there was the tapestry door.\\nShe pushed it open very gently and closed it behind her, and she stood in\\nthe corridor and could hear the crying quite plainly, though it was not loud. It\\nwas on the other side of the wall at her left and a few yards farther on there\\nwas a door. She could see a glimmer of light coming from beneath it. The\\nSomeone was crying in that room, and it was quite a young Someone.\\nSo she walked to the door and pushed it open, and there she was standing\\nin the room!\\nIt was a big room with ancient, handsome furniture in it. There was a low\\nfire glowing faintly on the hearth and a night light burning by the side of a\\ncarved four-posted bed hung with brocade, and on the bed was lying a boy,\\ncrying fretfully.\\nMary wondered if she was in a real place or if she had fallen asleep again\\nand was dreaming without knowing it.\\nThe boy had a sharp, delicate face the color of ivory and he seemed to have\\neyes too big for it. He had also a lot of hair which tumbled over his forehead in\\nheavy locks and made his thin face seem smaller. He looked like a boy who\\nhad been ill, but he was crying more as if he were tired and cross than as if he\\nwere in pain.\\nMary stood near the door with her candle in her hand, holding her breath.\\nThen she crept across the room, and, as she drew nearer, the light attracted the\\nboy\\'s attention and he turned his head on his pillow and stared at her, his gray\\neyes opening so wide that they seemed immense.\\n\"Who are you?\" he said at last in a half-frightened whisper. \"Are you a\\nghost?\"\\n\"No, I am not,\" Mary answered, her own whisper sounding half frightened.\\n\"Are you one?\"\\nHe stared and stared and stared. Mary could not help noticing what strange\\n'"
      ]
     },
     "execution_count": 14,
     "metadata": {},
     "output_type": "execute_result"
    }
   ],
   "source": [
    "result[0]"
   ]
  },
  {
   "cell_type": "code",
   "execution_count": 15,
   "metadata": {},
   "outputs": [
    {
     "data": {
      "text/plain": [
       "['There was a candle by her bedside and she took it up and went softly out of\\nthe room. The corridor looked very long and dark, but she was too excited to\\nmind that. She thought she remembered the corners she must turn to find the\\nshort corridor with the door covered with tapestry—the one Mrs. Medlock had\\ncome through the day she lost herself. The sound had come up that passage.\\nSo she went on with her dim light, almost feeling her way, her heart beating so\\nloud that she fancied she could hear it. The far-off faint crying went on and led\\nher. Sometimes it stopped for a moment or so and then began again. Was this\\nthe right corner to turn? She stopped and thought. Yes it was. Down this\\npassage and then to the left, and then up two broad steps, and then to the right\\nagain. Yes, there was the tapestry door.\\nShe pushed it open very gently and closed it behind her, and she stood in\\nthe corridor and could hear the crying quite plainly, though it was not loud. It\\nwas on the other side of the wall at her left and a few yards farther on there\\nwas a door. She could see a glimmer of light coming from beneath it. The\\nSomeone was crying in that room, and it was quite a young Someone.\\nSo she walked to the door and pushed it open, and there she was standing\\nin the room!\\nIt was a big room with ancient, handsome furniture in it. There was a low\\nfire glowing faintly on the hearth and a night light burning by the side of a\\ncarved four-posted bed hung with brocade, and on the bed was lying a boy,\\ncrying fretfully.\\nMary wondered if she was in a real place or if she had fallen asleep again\\nand was dreaming without knowing it.\\nThe boy had a sharp, delicate face the color of ivory and he seemed to have\\neyes too big for it. He had also a lot of hair which tumbled over his forehead in\\nheavy locks and made his thin face seem smaller. He looked like a boy who\\nhad been ill, but he was crying more as if he were tired and cross than as if he\\nwere in pain.\\nMary stood near the door with her candle in her hand, holding her breath.\\nThen she crept across the room, and, as she drew nearer, the light attracted the\\nboy\\'s attention and he turned his head on his pillow and stared at her, his gray\\neyes opening so wide that they seemed immense.\\n\"Who are you?\" he said at last in a half-frightened whisper. \"Are you a\\nghost?\"\\n\"No, I am not,\" Mary answered, her own whisper sounding half frightened.\\n\"Are you one?\"\\nHe stared and stared and stared. Mary could not help noticing what strange\\n',\n",
       " 'your nose where it\\'s no cause to go. Here, I must go on with my work. Get you\\ngone an\\' play you. I\\'ve no more time.\"\\nAnd he actually stopped digging, threw his spade over his shoulder and\\nwalked off, without even glancing at her or saying good-by.\\n \\n \\nCHAPTER V\\nTHE CRY IN THE CORRIDOR\\n \\nAt first each day which passed by for Mary Lennox was exactly like the\\nothers. Every morning she awoke in her tapestried room and found Martha\\nkneeling upon the hearth building her fire; every morning she ate her breakfast\\nin the nursery which had nothing amusing in it; and after each breakfast she\\ngazed out of the window across to the huge moor which seemed to spread out\\non all sides and climb up to the sky, and after she had stared for a while she\\nrealized that if she did not go out she would have to stay in and do nothing—\\nand so she went out. She did not know that this was the best thing she could\\nhave done, and she did not know that, when she began to walk quickly or even\\nrun along the paths and down the avenue, she was stirring her slow blood and\\nmaking herself stronger by fighting with the wind which swept down from the\\nmoor. She ran only to make herself warm, and she hated the wind which\\nrushed at her face and roared and held her back as if it were some giant she\\ncould not see. But the big breaths of rough fresh air blown over the heather\\nfilled her lungs with something which was good for her whole thin body and\\nwhipped some red color into her cheeks and brightened her dull eyes when she\\ndid not know anything about it.\\nBut after a few days spent almost entirely out of doors she wakened one\\nmorning knowing what it was to be hungry, and when she sat down to her\\nbreakfast she did not glance disdainfully at her porridge and push it away, but\\ntook up her spoon and began to eat it and went on eating it until her bowl was\\nempty.\\n\"Tha\\' got on well enough with that this mornin\\', didn\\'t tha\\'?\" said Martha.\\n\"It tastes nice today,\" said Mary, feeling a little surprised her self.\\n\"It\\'s th\\' air of th\\' moor that\\'s givin\\' thee stomach for tha\\' victuals,\" answered\\nMartha. \"It\\'s lucky for thee that tha\\'s got victuals as well as appetite. There\\'s\\nbeen twelve in our cottage as had th\\' stomach an\\' nothin\\' to put in it. You go on\\nplayin\\' you out o\\' doors every day an\\' you\\'ll get some flesh on your bones an\\'\\nyou won\\'t be so yeller.\"\\n',\n",
       " ' \\nCHAPTER IV\\nMARTHA\\n \\nWhen she opened her eyes in the morning it was because a young\\nhousemaid had come into her room to light the fire and was kneeling on the\\nhearth-rug raking out the cinders noisily. Mary lay and watched her for a few\\nmoments and then began to look about the room. She had never seen a room at\\nall like it and thought it curious and gloomy. The walls were covered with\\ntapestry with a forest scene embroidered on it. There were fantastically\\ndressed people under the trees and in the distance there was a glimpse of the\\nturrets of a castle. There were hunters and horses and dogs and ladies. Mary\\nfelt as if she were in the forest with them. Out of a deep window she could see\\na great climbing stretch of land which seemed to have no trees on it, and to\\nlook rather like an endless, dull, purplish sea.\\n\"What is that?\" she said, pointing out of the window.\\nMartha, the young housemaid, who had just risen to her feet, looked and\\npointed also. \"That there?\" she said.\\n\"Yes.\"\\n\"That\\'s th\\' moor,\" with a good-natured grin. \"Does tha\\' like it?\"\\n\"No,\" answered Mary. \"I hate it.\"\\n\"That\\'s because tha\\'rt not used to it,\" Martha said, going back to her hearth.\\n\"Tha\\' thinks it\\'s too big an\\' bare now. But tha\\' will like it.\"\\n\"Do you?\" inquired Mary.\\n\"Aye, that I do,\" answered Martha, cheerfully polishing away at the grate.\\n\"I just love it. It\\'s none bare. It\\'s covered wi\\' growin\\' things as smells sweet.\\nIt\\'s fair lovely in spring an\\' summer when th\\' gorse an\\' broom an\\' heather\\'s in\\nflower. It smells o\\' honey an\\' there\\'s such a lot o\\' fresh air—an\\' th\\' sky looks so\\nhigh an\\' th\\' bees an\\' skylarks makes such a nice noise hummin\\' an\\' singin\\'. Eh!\\nI wouldn\\'t live away from th\\' moor for anythin\\'.\"\\nMary listened to her with a grave, puzzled expression. The native servants\\nshe had been used to in India were not in the least like this. They were\\nobsequious and servile and did not presume to talk to their masters as if they\\nwere their equals. They made salaams and called them \"protector of the poor\"\\nand names of that sort. Indian servants were commanded to do things, not\\nasked. It was not the custom to say \"please\" and \"thank you\" and Mary had\\nalways slapped her Ayah in the face when she was angry. She wondered a little\\n',\n",
       " '\"How queer and quiet it is,\" she said. \"It sounds as if there were no one in\\nthe bungalow but me and the snake.\"\\nAlmost the next minute she heard footsteps in the compound, and then on\\nthe veranda. They were men\\'s footsteps, and the men entered the bungalow\\nand talked in low voices. No one went to meet or speak to them and they\\nseemed to open doors and look into rooms. \"What desolation!\" she heard one\\nvoice say. \"That pretty, pretty woman! I suppose the child, too. I heard there\\nwas a child, though no one ever saw her.\"\\nMary was standing in the middle of the nursery when they opened the door\\na few minutes later. She looked an ugly, cross little thing and was frowning\\nbecause she was beginning to be hungry and feel disgracefully neglected. The\\nfirst man who came in was a large officer she had once seen talking to her\\nfather. He looked tired and troubled, but when he saw her he was so startled\\nthat he almost jumped back.\\n\"Barney!\" he cried out. \"There is a child here! A child alone! In a place\\nlike this! Mercy on us, who is she!\"\\n\"I am Mary Lennox,\" the little girl said, drawing herself up stiffly. She\\nthought the man was very rude to call her father\\'s bungalow \"A place like\\nthis!\" \"I fell asleep when everyone had the cholera and I have only just\\nwakened up. Why does nobody come?\"\\n\"It is the child no one ever saw!\" exclaimed the man, turning to his\\ncompanions. \"She has actually been forgotten!\"\\n\"Why was I forgotten?\" Mary said, stamping her foot. \"Why does nobody\\ncome?\"\\nThe young man whose name was Barney looked at her very sadly. Mary\\neven thought she saw him wink his eyes as if to wink tears away.\\n\"Poor little kid!\" he said. \"There is nobody left to come.\"\\nIt was in that strange and sudden way that Mary found out that she had\\nneither father nor mother left; that they had died and been carried away in the\\nnight, and that the few native servants who had not died also had left the house\\nas quickly as they could get out of it, none of them even remembering that\\nthere was a Missie Sahib. That was why the place was so quiet. It was true that\\nthere was no one in the bungalow but herself and the little rustling snake.\\n \\n \\nCHAPTER II\\nMISTRESS MARY QUITE CONTRARY\\n',\n",
       " '\"Eh!\" he almost whispered, \"it is a queer, pretty place! It\\'s like as if a body\\nwas in a dream.\"\\n \\n \\nCHAPTER XI\\nTHE NEST OF THE MISSEL THRUSH\\n \\nFor two or three minutes he stood looking round him, while Mary watched\\nhim, and then he began to walk about softly, even more lightly than Mary had\\nwalked the first time she had found herself inside the four walls. His eyes\\nseemed to be taking in everything—the gray trees with the gray creepers\\nclimbing over them and hanging from their branches, the tangle on the walls\\nand among the grass, the evergreen alcoves with the stone seats and tall flower\\nurns standing in them.\\n\"I never thought I\\'d see this place,\" he said at last, in a whisper.\\n\"Did you know about it?\" asked Mary.\\nShe had spoken aloud and he made a sign to her.\\n\"We must talk low,\" he said, \"or some one\\'ll hear us an\\' wonder what\\'s to\\ndo in here.\"\\n\"Oh! I forgot!\" said Mary, feeling frightened and putting her hand quickly\\nagainst her mouth. \"Did you know about the garden?\" she asked again when\\nshe had recovered herself. Dickon nodded.\\n\"Martha told me there was one as no one ever went inside,\" he answered.\\n\"Us used to wonder what it was like.\"\\nHe stopped and looked round at the lovely gray tangle about him, and his\\nround eyes looked queerly happy.\\n\"Eh! the nests as\\'ll be here come springtime,\" he said. \"It\\'d be th\\' safest\\nnestin\\' place in England. No one never comin\\' near an\\' tangles o\\' trees an\\' roses\\nto build in. I wonder all th\\' birds on th\\' moor don\\'t build here.\"\\nMistress Mary put her hand on his arm again without knowing it.\\n\"Will there be roses?\" she whispered. \"Can you tell? I thought perhaps they\\nwere all dead.\"\\n\"Eh! No! Not them—not all of \\'em!\" he answered. \"Look here!\"\\nHe stepped over to the nearest tree—an old, old one with gray lichen all\\nover its bark, but upholding a curtain of tangled sprays and branches. He took\\n']"
      ]
     },
     "execution_count": 15,
     "metadata": {},
     "output_type": "execute_result"
    }
   ],
   "source": [
    "result"
   ]
  },
  {
   "cell_type": "code",
   "execution_count": null,
   "metadata": {},
   "outputs": [],
   "source": []
  }
 ],
 "metadata": {
  "kernelspec": {
   "display_name": ".vire",
   "language": "python",
   "name": "python3"
  },
  "language_info": {
   "codemirror_mode": {
    "name": "ipython",
    "version": 3
   },
   "file_extension": ".py",
   "mimetype": "text/x-python",
   "name": "python",
   "nbconvert_exporter": "python",
   "pygments_lexer": "ipython3",
   "version": "3.12.4"
  }
 },
 "nbformat": 4,
 "nbformat_minor": 2
}
